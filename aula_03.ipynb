{
  "nbformat": 4,
  "nbformat_minor": 0,
  "metadata": {
    "colab": {
      "provenance": [],
      "authorship_tag": "ABX9TyOulNBKlYOlmeSztbxCqlIT",
      "include_colab_link": true
    },
    "kernelspec": {
      "name": "python3",
      "display_name": "Python 3"
    },
    "language_info": {
      "name": "python"
    }
  },
  "cells": [
    {
      "cell_type": "markdown",
      "metadata": {
        "id": "view-in-github",
        "colab_type": "text"
      },
      "source": [
        "<a href=\"https://colab.research.google.com/github/verasmarianna/aula-git/blob/main/aula_03.ipynb\" target=\"_parent\"><img src=\"https://colab.research.google.com/assets/colab-badge.svg\" alt=\"Open In Colab\"/></a>"
      ]
    },
    {
      "cell_type": "code",
      "execution_count": null,
      "metadata": {
        "id": "qcN2zZKIwgCR"
      },
      "outputs": [],
      "source": [
        "# ESTRUTURA DE DADOS\n",
        "'''LISTAS\n",
        "lista vazia\n",
        "'''\n",
        " L = []\n",
        " L = list()"
      ]
    },
    {
      "cell_type": "code",
      "source": [
        "dias = [3, 1, 10]"
      ],
      "metadata": {
        "id": "zORD6owe4SyN"
      },
      "execution_count": 1,
      "outputs": []
    },
    {
      "cell_type": "code",
      "source": [
        "dias [0]"
      ],
      "metadata": {
        "colab": {
          "base_uri": "https://localhost:8080/"
        },
        "id": "fL99wQDJ4ZNt",
        "outputId": "a28a23ac-bd43-41e1-d011-5429e1dab0f1"
      },
      "execution_count": 2,
      "outputs": [
        {
          "output_type": "execute_result",
          "data": {
            "text/plain": [
              "3"
            ]
          },
          "metadata": {},
          "execution_count": 2
        }
      ]
    },
    {
      "cell_type": "code",
      "source": [
        "dias [1]"
      ],
      "metadata": {
        "colab": {
          "base_uri": "https://localhost:8080/"
        },
        "id": "wFl5mX0I4khV",
        "outputId": "798af0f3-710d-4248-b6ee-dee65fd0e45b"
      },
      "execution_count": 3,
      "outputs": [
        {
          "output_type": "execute_result",
          "data": {
            "text/plain": [
              "1"
            ]
          },
          "metadata": {},
          "execution_count": 3
        }
      ]
    },
    {
      "cell_type": "code",
      "source": [
        "dias [2]"
      ],
      "metadata": {
        "colab": {
          "base_uri": "https://localhost:8080/"
        },
        "id": "2I9NQjWp4nDd",
        "outputId": "8181e13c-a97f-4c4b-f8c3-8bdf5c9666ee"
      },
      "execution_count": 4,
      "outputs": [
        {
          "output_type": "execute_result",
          "data": {
            "text/plain": [
              "10"
            ]
          },
          "metadata": {},
          "execution_count": 4
        }
      ]
    },
    {
      "cell_type": "code",
      "source": [
        "''' MODDIFICANDO A LISTA'''\n",
        "\n",
        "z = [3,8,9]"
      ],
      "metadata": {
        "id": "EgnNVx0f4r2F"
      },
      "execution_count": null,
      "outputs": []
    },
    {
      "cell_type": "code",
      "source": [
        "z[0] = 7"
      ],
      "metadata": {
        "id": "92S96bzI40p9"
      },
      "execution_count": null,
      "outputs": []
    },
    {
      "cell_type": "code",
      "source": [
        "'''CLONANDO LISTA'''\n",
        "\n",
        "a = [81,82,83]"
      ],
      "metadata": {
        "id": "5VSkgCI544eW"
      },
      "execution_count": 10,
      "outputs": []
    },
    {
      "cell_type": "code",
      "source": [
        "b = a[:] #cria um clone com fatia"
      ],
      "metadata": {
        "id": "K4tJTFgB5b3l"
      },
      "execution_count": 11,
      "outputs": []
    },
    {
      "cell_type": "code",
      "source": [
        "print (a==b)"
      ],
      "metadata": {
        "colab": {
          "base_uri": "https://localhost:8080/"
        },
        "id": "00K3Fc2t5hmt",
        "outputId": "63858eb4-3a01-44e1-f554-4700b4b18d52"
      },
      "execution_count": 12,
      "outputs": [
        {
          "output_type": "stream",
          "name": "stdout",
          "text": [
            "True\n"
          ]
        }
      ]
    },
    {
      "cell_type": "code",
      "source": [
        "print (a is b) # is é É. (a é b)"
      ],
      "metadata": {
        "colab": {
          "base_uri": "https://localhost:8080/"
        },
        "id": "t-pqb-XU5m0W",
        "outputId": "258ba18e-7f25-454c-e764-78b78847fd98"
      },
      "execution_count": 13,
      "outputs": [
        {
          "output_type": "stream",
          "name": "stdout",
          "text": [
            "False\n"
          ]
        }
      ]
    },
    {
      "cell_type": "code",
      "source": [
        "b[0] = 5"
      ],
      "metadata": {
        "id": "1LmwO40X5rA0"
      },
      "execution_count": 14,
      "outputs": []
    },
    {
      "cell_type": "code",
      "source": [
        "print (a)"
      ],
      "metadata": {
        "colab": {
          "base_uri": "https://localhost:8080/"
        },
        "id": "JVt_3wlY5vY9",
        "outputId": "ab4101c5-5cf9-4353-d763-593cc298d02e"
      },
      "execution_count": 15,
      "outputs": [
        {
          "output_type": "stream",
          "name": "stdout",
          "text": [
            "[81, 82, 83]\n"
          ]
        }
      ]
    },
    {
      "cell_type": "code",
      "source": [
        "print (b)"
      ],
      "metadata": {
        "colab": {
          "base_uri": "https://localhost:8080/"
        },
        "id": "uwEyVRS25yDt",
        "outputId": "bf346f18-10aa-41af-fdb7-faf5ed777c83"
      },
      "execution_count": 16,
      "outputs": [
        {
          "output_type": "stream",
          "name": "stdout",
          "text": [
            "[5, 82, 83]\n"
          ]
        }
      ]
    },
    {
      "cell_type": "code",
      "source": [
        "'''FATIAMENTO DE LISTAS'''\n",
        "\n",
        "uma_lista =['a', 'b', 'c', 'd', 'e', 'f']"
      ],
      "metadata": {
        "id": "fK_CVQ4Y6Dij"
      },
      "execution_count": 17,
      "outputs": []
    },
    {
      "cell_type": "code",
      "source": [
        "print (uma_lista[1:3]) #a = 0, b = 1, c = 3 ... do um at~e chegar no 3, sõ que ele nao imprime o 3 e sim um antes. "
      ],
      "metadata": {
        "colab": {
          "base_uri": "https://localhost:8080/"
        },
        "id": "tSfj9fTb6ROc",
        "outputId": "76ac4039-f61c-41a8-8002-66e68968105e"
      },
      "execution_count": 42,
      "outputs": [
        {
          "output_type": "stream",
          "name": "stdout",
          "text": [
            "[2, 8]\n"
          ]
        }
      ]
    },
    {
      "cell_type": "code",
      "source": [
        "print (uma_lista[:4]) #ele sempre para um antes do solicitado. OU seja, ele imprime ate o 3 e no 4 ele para. "
      ],
      "metadata": {
        "colab": {
          "base_uri": "https://localhost:8080/"
        },
        "id": "gzg_Ia8m6Zd9",
        "outputId": "6cd17419-6364-4a7f-b844-f92abb45b084"
      },
      "execution_count": 19,
      "outputs": [
        {
          "output_type": "stream",
          "name": "stdout",
          "text": [
            "['a', 'b', 'c', 'd']\n"
          ]
        }
      ]
    },
    {
      "cell_type": "code",
      "source": [
        "print (uma_lista[3:])"
      ],
      "metadata": {
        "colab": {
          "base_uri": "https://localhost:8080/"
        },
        "id": "XSSAXjCf6dJ1",
        "outputId": "3365ba2c-b463-4ab0-edb1-9b7186579bb0"
      },
      "execution_count": 20,
      "outputs": [
        {
          "output_type": "stream",
          "name": "stdout",
          "text": [
            "['d', 'e', 'f']\n"
          ]
        }
      ]
    },
    {
      "cell_type": "code",
      "source": [
        "print (uma_lista[:]) #lista toda"
      ],
      "metadata": {
        "colab": {
          "base_uri": "https://localhost:8080/"
        },
        "id": "7DEZNMQu6gJV",
        "outputId": "eff2084e-e7d1-41ad-f024-06ac06568606"
      },
      "execution_count": 21,
      "outputs": [
        {
          "output_type": "stream",
          "name": "stdout",
          "text": [
            "['a', 'b', 'c', 'd', 'e', 'f']\n"
          ]
        }
      ]
    },
    {
      "cell_type": "code",
      "source": [
        "#PRATICA LISTA\n",
        "\n",
        "a = [1,2,3]"
      ],
      "metadata": {
        "id": "uCECxMio7XlE"
      },
      "execution_count": 43,
      "outputs": []
    },
    {
      "cell_type": "code",
      "source": [
        "b = a[:]"
      ],
      "metadata": {
        "id": "x_E5VAQ97j8F"
      },
      "execution_count": 23,
      "outputs": []
    },
    {
      "cell_type": "code",
      "source": [
        "b [0] = 5"
      ],
      "metadata": {
        "id": "9cjmNyAu7oeV"
      },
      "execution_count": 24,
      "outputs": []
    },
    {
      "cell_type": "code",
      "source": [
        "print(a[3]) #VAI DAR ERRO POIS ELE ESTA PEDINDO UM ELEMENTO QUE NAO TEM. "
      ],
      "metadata": {
        "id": "oy7Mp24L7rjd"
      },
      "execution_count": null,
      "outputs": []
    },
    {
      "cell_type": "code",
      "source": [
        "# PRÁTICA 02 - crie uma lista \n",
        "\n",
        "minhaLista = [76,92.3,\"oi\",True, 4, 76]"
      ],
      "metadata": {
        "id": "5PUrRLs074R9"
      },
      "execution_count": 33,
      "outputs": []
    },
    {
      "cell_type": "code",
      "source": [
        "# inserir \"pitomba\" no final da lista\n",
        "\n",
        "minhaLista.append(\"pitomba\")\n",
        "print (minhaLista)"
      ],
      "metadata": {
        "colab": {
          "base_uri": "https://localhost:8080/"
        },
        "id": "PJsPtl_y8SJl",
        "outputId": "bce1952b-cbbc-4fc3-e25a-1794d9613d0b"
      },
      "execution_count": 45,
      "outputs": [
        {
          "output_type": "stream",
          "name": "stdout",
          "text": [
            "[76, 92.3, 'oi', True, 4, 76, 'pitomba', 'pitomba', 'pitomba', 'pitomba']\n"
          ]
        }
      ]
    },
    {
      "cell_type": "code",
      "source": [
        "# inserir o valor \"Cibele\" na posicao do indice 3\n",
        "\n",
        "minhaLista = [76,92.3,\"oi\",True, 4, 76]\n",
        "\n",
        "minhaLista.insert(3, \"Cibele\")\n",
        "print (minhaLista)"
      ],
      "metadata": {
        "colab": {
          "base_uri": "https://localhost:8080/"
        },
        "id": "ZiH0FzP780r-",
        "outputId": "0d47562d-f6ac-4482-fddf-afc8af6ef79d"
      },
      "execution_count": 52,
      "outputs": [
        {
          "output_type": "stream",
          "name": "stdout",
          "text": [
            "[76, 92.3, 'oi', 'Cibele', True, 4, 76]\n"
          ]
        }
      ]
    },
    {
      "cell_type": "code",
      "source": [
        "# inserir o valor 99 no inicio da lista\n",
        "minhaLista = [76,92.3,\"oi\",True, 4, 76]\n",
        "\n",
        "minhaLista = [99] + minhaLista\n",
        "print (minhaLista)"
      ],
      "metadata": {
        "colab": {
          "base_uri": "https://localhost:8080/"
        },
        "id": "RHmtrN_989W9",
        "outputId": "8da9ec9b-b422-4774-dfe2-6a6c5dae4fa3"
      },
      "execution_count": 86,
      "outputs": [
        {
          "output_type": "stream",
          "name": "stdout",
          "text": [
            "[99, 76, 92.3, 'oi', True, 4, 76]\n"
          ]
        }
      ]
    },
    {
      "cell_type": "code",
      "source": [
        "# encontrar o indice de \"oi\""
      ],
      "metadata": {
        "id": "I38En8Yo9B81"
      },
      "execution_count": null,
      "outputs": []
    },
    {
      "cell_type": "code",
      "source": [
        "# remover True da lista\n",
        "\n",
        "minhaLista = [76,92.3,\"oi\",True, 4, 76]\n",
        "\n",
        "minhaLista.remove (True)\n",
        "print(minhaLista)"
      ],
      "metadata": {
        "colab": {
          "base_uri": "https://localhost:8080/"
        },
        "id": "2x4Py-3m9Ei4",
        "outputId": "c4d0c0c3-93b9-4302-b612-0bd119a25e8f"
      },
      "execution_count": 61,
      "outputs": [
        {
          "output_type": "stream",
          "name": "stdout",
          "text": [
            "[76, 92.3, 'oi', 4, 76]\n"
          ]
        }
      ]
    },
    {
      "cell_type": "code",
      "source": [
        "# remover True da lista (outra opcao) *****************************************\n",
        "minhaLista = [76,92.3,\"oi\",True, 4, 76]\n",
        "\n",
        "del minhaLista [True]\n",
        "print(minhaLista)"
      ],
      "metadata": {
        "colab": {
          "base_uri": "https://localhost:8080/"
        },
        "id": "ziwBjxnMFu-3",
        "outputId": "ceb9f75f-1dc2-4ccd-9f3a-d6d49bcb5f21"
      },
      "execution_count": 76,
      "outputs": [
        {
          "output_type": "stream",
          "name": "stdout",
          "text": [
            "[76, 'oi', True, 4, 76]\n"
          ]
        }
      ]
    },
    {
      "cell_type": "code",
      "source": [
        "#PRATICA 03\n",
        "'''O que ~e impresso pelo trecho de código a seguir'''\n",
        "\n",
        "uma_lista = [4,2,8,6,5]"
      ],
      "metadata": {
        "id": "jQvWpQ9_926k"
      },
      "execution_count": 39,
      "outputs": []
    },
    {
      "cell_type": "code",
      "source": [
        "uma_lista = uma_lista + ['Cibele']"
      ],
      "metadata": {
        "id": "-R_HPSX6-0Uu"
      },
      "execution_count": 40,
      "outputs": []
    },
    {
      "cell_type": "code",
      "source": [
        "print (uma_lista)"
      ],
      "metadata": {
        "colab": {
          "base_uri": "https://localhost:8080/"
        },
        "id": "Z57C5Lza-7LW",
        "outputId": "dbca29d4-aeea-4715-c934-056bb9feab1f"
      },
      "execution_count": 41,
      "outputs": [
        {
          "output_type": "stream",
          "name": "stdout",
          "text": [
            "[4, 2, 8, 6, 5, 'Cibele']\n"
          ]
        }
      ]
    },
    {
      "cell_type": "code",
      "source": [
        "#TUPLAS EM PYTHON\n",
        "''' Tuplas sao rígitas quanto a conteudos'''\n",
        "\n",
        "tupla_numeros = (10,20,30) #pode ser criada com parenteses e sem parenteces"
      ],
      "metadata": {
        "id": "h0FxW6Dw_yIf"
      },
      "execution_count": 48,
      "outputs": []
    },
    {
      "cell_type": "code",
      "source": [
        "tupla_numeros"
      ],
      "metadata": {
        "colab": {
          "base_uri": "https://localhost:8080/"
        },
        "id": "XHARyfMrAPa2",
        "outputId": "137606a2-a17c-4534-cc1d-594ea8d33348"
      },
      "execution_count": 50,
      "outputs": [
        {
          "output_type": "execute_result",
          "data": {
            "text/plain": [
              "(10, 20, 30)"
            ]
          },
          "metadata": {},
          "execution_count": 50
        }
      ]
    },
    {
      "cell_type": "code",
      "source": [
        "# funcao tuplas (PEGAR)"
      ],
      "metadata": {
        "id": "ujYRzUWABZIV"
      },
      "execution_count": null,
      "outputs": []
    },
    {
      "cell_type": "code",
      "source": [
        "tupla_nomes = (\"Marlene\", \"Zezinho\", \"Marlene\", \"Cibele\", \"Suely\")"
      ],
      "metadata": {
        "id": "BhIJblIaBdot"
      },
      "execution_count": 55,
      "outputs": []
    },
    {
      "cell_type": "code",
      "source": [
        "tupla_nomes.count(\"Marlene\") #count conta quantas vezes o item entre parenteses aparece na lista. "
      ],
      "metadata": {
        "colab": {
          "base_uri": "https://localhost:8080/"
        },
        "id": "wnhQJcoxBrXO",
        "outputId": "0e923e43-6b56-456d-b225-acd2f298eef0"
      },
      "execution_count": 56,
      "outputs": [
        {
          "output_type": "execute_result",
          "data": {
            "text/plain": [
              "2"
            ]
          },
          "metadata": {},
          "execution_count": 56
        }
      ]
    },
    {
      "cell_type": "code",
      "source": [
        "print (tupla_nomes.count(\"Suely\"))"
      ],
      "metadata": {
        "colab": {
          "base_uri": "https://localhost:8080/"
        },
        "id": "H2shLX5SBvHm",
        "outputId": "0b14c55b-c7ce-4a32-df01-b3ad3e554f4c"
      },
      "execution_count": 57,
      "outputs": [
        {
          "output_type": "stream",
          "name": "stdout",
          "text": [
            "1\n"
          ]
        }
      ]
    },
    {
      "cell_type": "code",
      "source": [
        "print (tupla_nomes.count(\"Zezinho\"))"
      ],
      "metadata": {
        "colab": {
          "base_uri": "https://localhost:8080/"
        },
        "id": "jEF0Z1qsBz52",
        "outputId": "a83978b3-cfa9-4376-9c47-d5f2c3551400"
      },
      "execution_count": 58,
      "outputs": [
        {
          "output_type": "stream",
          "name": "stdout",
          "text": [
            "1\n"
          ]
        }
      ]
    },
    {
      "cell_type": "code",
      "source": [
        "#PRATICA DE TUPLAS\n",
        "\n",
        "tupla_nomes = (1,2,2,3,4,4,4,5)\n",
        "tupla_nomes.count(4)"
      ],
      "metadata": {
        "colab": {
          "base_uri": "https://localhost:8080/"
        },
        "id": "2ZqSIEBCCuMc",
        "outputId": "0ccd5278-a4d2-42c5-9b9d-80e3c132f50f"
      },
      "execution_count": 62,
      "outputs": [
        {
          "output_type": "execute_result",
          "data": {
            "text/plain": [
              "3"
            ]
          },
          "metadata": {},
          "execution_count": 62
        }
      ]
    },
    {
      "cell_type": "code",
      "source": [
        "#DICIONÁRIO (MAPS)\n",
        "\n",
        "'''CRIANDO UM DICIONÁRIO'''\n",
        "dicio = {'chave':'valor'} ##ATEEEEEENCAO =  ESSA É A BASE DO DICIONÁRIO"
      ],
      "metadata": {
        "id": "RG_mqv0jDQpu"
      },
      "execution_count": 64,
      "outputs": []
    },
    {
      "cell_type": "code",
      "source": [
        "print(type(dicio))"
      ],
      "metadata": {
        "colab": {
          "base_uri": "https://localhost:8080/"
        },
        "id": "TXFQQMpzDkEC",
        "outputId": "2c8fae55-d83d-4085-ed98-c2f4a702d450"
      },
      "execution_count": 65,
      "outputs": [
        {
          "output_type": "stream",
          "name": "stdout",
          "text": [
            "<class 'dict'>\n"
          ]
        }
      ]
    },
    {
      "cell_type": "code",
      "source": [
        "#pratica dicionário\n",
        "\n",
        "d = {\"laranjas\": 15, \"bananas\": 35, \"siriguela\":12}"
      ],
      "metadata": {
        "id": "QouiH8s7D6l_"
      },
      "execution_count": 68,
      "outputs": []
    },
    {
      "cell_type": "code",
      "source": [
        "d['bananas']"
      ],
      "metadata": {
        "colab": {
          "base_uri": "https://localhost:8080/"
        },
        "id": "Hdw899ZKEKTO",
        "outputId": "57d67d32-7aee-405f-b343-f8518e71b8c4"
      },
      "execution_count": 67,
      "outputs": [
        {
          "output_type": "execute_result",
          "data": {
            "text/plain": [
              "35"
            ]
          },
          "metadata": {},
          "execution_count": 67
        }
      ]
    },
    {
      "cell_type": "code",
      "source": [
        "d[\"pitomba\"] = 20"
      ],
      "metadata": {
        "id": "lgTHtls9EnUO"
      },
      "execution_count": 69,
      "outputs": []
    },
    {
      "cell_type": "code",
      "source": [
        "len(d) #len verifica a quantidade de elementos do dicionário. "
      ],
      "metadata": {
        "colab": {
          "base_uri": "https://localhost:8080/"
        },
        "id": "_DNvEZurEt1P",
        "outputId": "a77312b1-06e9-44d4-995e-1e2fa38f99b4"
      },
      "execution_count": 70,
      "outputs": [
        {
          "output_type": "execute_result",
          "data": {
            "text/plain": [
              "4"
            ]
          },
          "metadata": {},
          "execution_count": 70
        }
      ]
    },
    {
      "cell_type": "code",
      "source": [
        "\"pitomba\" in d #método para pesquisar se é verdadeiro ou falso se o determinado item existe no dicionário. "
      ],
      "metadata": {
        "colab": {
          "base_uri": "https://localhost:8080/"
        },
        "id": "0smJlZpcFAW-",
        "outputId": "7df6c949-5228-493a-85be-c0adb829bc7b"
      },
      "execution_count": 71,
      "outputs": [
        {
          "output_type": "execute_result",
          "data": {
            "text/plain": [
              "True"
            ]
          },
          "metadata": {},
          "execution_count": 71
        }
      ]
    },
    {
      "cell_type": "code",
      "source": [
        "\"pears\" in d"
      ],
      "metadata": {
        "colab": {
          "base_uri": "https://localhost:8080/"
        },
        "id": "X6mXaXkjFOc2",
        "outputId": "60de6547-7676-4092-998e-84f7485f62ab"
      },
      "execution_count": 72,
      "outputs": [
        {
          "output_type": "execute_result",
          "data": {
            "text/plain": [
              "False"
            ]
          },
          "metadata": {},
          "execution_count": 72
        }
      ]
    },
    {
      "cell_type": "code",
      "source": [
        "del d['laranjas']"
      ],
      "metadata": {
        "id": "tvFpKMXlFVfm"
      },
      "execution_count": 73,
      "outputs": []
    },
    {
      "cell_type": "code",
      "source": [
        "'laranjas' in d"
      ],
      "metadata": {
        "colab": {
          "base_uri": "https://localhost:8080/"
        },
        "id": "aHMgkiJhFfaW",
        "outputId": "f259560b-9429-459e-bc24-f3d11f0f5ca4"
      },
      "execution_count": 74,
      "outputs": [
        {
          "output_type": "execute_result",
          "data": {
            "text/plain": [
              "False"
            ]
          },
          "metadata": {},
          "execution_count": 74
        }
      ]
    },
    {
      "cell_type": "code",
      "source": [
        "#CONCATENACAO E REPETICAO\n",
        "\n",
        "frutas = ['pinha', 'oiti coró', 'jaca', 'tamarindo']"
      ],
      "metadata": {
        "id": "s1gUOXe_GLzH"
      },
      "execution_count": 78,
      "outputs": []
    },
    {
      "cell_type": "code",
      "source": [
        "print([1,2] + [3,4])"
      ],
      "metadata": {
        "colab": {
          "base_uri": "https://localhost:8080/"
        },
        "id": "e8ruR49EGvHO",
        "outputId": "f32d2f26-8df3-49a5-fafe-7b25647b5f57"
      },
      "execution_count": 79,
      "outputs": [
        {
          "output_type": "stream",
          "name": "stdout",
          "text": [
            "[1, 2, 3, 4]\n"
          ]
        }
      ]
    },
    {
      "cell_type": "code",
      "source": [
        "print(frutas + [6,7,8,9])"
      ],
      "metadata": {
        "colab": {
          "base_uri": "https://localhost:8080/"
        },
        "id": "Fi--HcYSG1IM",
        "outputId": "7d217428-1ff8-4399-e34b-6271a03b6ddf"
      },
      "execution_count": 80,
      "outputs": [
        {
          "output_type": "stream",
          "name": "stdout",
          "text": [
            "['pinha', 'oiti coró', 'jaca', 'tamarindo', 6, 7, 8, 9]\n"
          ]
        }
      ]
    },
    {
      "cell_type": "code",
      "source": [
        "print ([0] * 4)"
      ],
      "metadata": {
        "colab": {
          "base_uri": "https://localhost:8080/"
        },
        "id": "OCkWCh7xG8mO",
        "outputId": "1fba27d0-fea6-4a96-f1f3-92ae0bc46117"
      },
      "execution_count": 81,
      "outputs": [
        {
          "output_type": "stream",
          "name": "stdout",
          "text": [
            "[0, 0, 0, 0]\n"
          ]
        }
      ]
    },
    {
      "cell_type": "code",
      "source": [
        "print([1,2,['oi','tchau']]*2)"
      ],
      "metadata": {
        "colab": {
          "base_uri": "https://localhost:8080/"
        },
        "id": "KEV9ZaZAHCfO",
        "outputId": "7308bc5d-e6f4-4edc-a92b-546a9b07639f"
      },
      "execution_count": 82,
      "outputs": [
        {
          "output_type": "stream",
          "name": "stdout",
          "text": [
            "[1, 2, ['oi', 'tchau'], 1, 2, ['oi', 'tchau']]\n"
          ]
        }
      ]
    },
    {
      "cell_type": "code",
      "source": [
        "#METODOS - .append ***pegar esse material!!! ** \n",
        "#\n",
        "#\n",
        "#\n",
        "#\n",
        "#\n"
      ],
      "metadata": {
        "id": "d7dXmdFUI_eX"
      },
      "execution_count": null,
      "outputs": []
    },
    {
      "cell_type": "code",
      "source": [
        "minha_lista.insert(1,12)"
      ],
      "metadata": {
        "id": "vZOYWUtbJS4n"
      },
      "execution_count": null,
      "outputs": []
    },
    {
      "cell_type": "code",
      "source": [
        "print(minha_lista)"
      ],
      "metadata": {
        "id": "XxPFC-FeJgdH"
      },
      "execution_count": null,
      "outputs": []
    },
    {
      "cell_type": "code",
      "source": [
        "print(minha_lista.count(12))"
      ],
      "metadata": {
        "id": "G4e29iaZJjho"
      },
      "execution_count": null,
      "outputs": []
    },
    {
      "cell_type": "code",
      "source": [
        "print(minha_lista.index(3))"
      ],
      "metadata": {
        "id": "QFCs8Z_3JnWf"
      },
      "execution_count": null,
      "outputs": []
    },
    {
      "cell_type": "code",
      "source": [
        "print(minha_lista.count(5)) #CONTA A QUANTDADE DO ELEMENTO SOLICITADO"
      ],
      "metadata": {
        "id": "Ogma0x_1Jq_P"
      },
      "execution_count": null,
      "outputs": []
    },
    {
      "cell_type": "code",
      "source": [
        "minha_lista.reverse() #INVERTE A ORDEM"
      ],
      "metadata": {
        "id": "GpXfHEe0KAQ3"
      },
      "execution_count": null,
      "outputs": []
    },
    {
      "cell_type": "code",
      "source": [
        "print(minha_lista)"
      ],
      "metadata": {
        "id": "r5AbM9WdKDoQ"
      },
      "execution_count": null,
      "outputs": []
    },
    {
      "cell_type": "code",
      "source": [
        "minha_lista.sort() #ORDENAR "
      ],
      "metadata": {
        "id": "CEcJ8cFPKHuf"
      },
      "execution_count": null,
      "outputs": []
    },
    {
      "cell_type": "code",
      "source": [
        "print(minha_lista)"
      ],
      "metadata": {
        "id": "HM2nDhHbKLp_"
      },
      "execution_count": null,
      "outputs": []
    },
    {
      "cell_type": "code",
      "source": [
        "minha_lista.remove(5) #remove o elemento solicitado"
      ],
      "metadata": {
        "id": "MikO3CnyKMSA"
      },
      "execution_count": null,
      "outputs": []
    },
    {
      "cell_type": "code",
      "source": [
        "print(minha_lista)"
      ],
      "metadata": {
        "id": "-Pud8dbfKPjf"
      },
      "execution_count": null,
      "outputs": []
    },
    {
      "cell_type": "code",
      "source": [
        "ultimo_item = minha_lista.pop() #deletou o ultimo item"
      ],
      "metadata": {
        "id": "6IgPMRk0LGjG"
      },
      "execution_count": null,
      "outputs": []
    },
    {
      "cell_type": "code",
      "source": [
        "print(ultimo_item)"
      ],
      "metadata": {
        "id": "wcYAOk9ZLKbH"
      },
      "execution_count": null,
      "outputs": []
    },
    {
      "cell_type": "code",
      "source": [
        "print(minha_lista)"
      ],
      "metadata": {
        "id": "s7hj3zTFLNZf"
      },
      "execution_count": null,
      "outputs": []
    },
    {
      "cell_type": "code",
      "source": [
        "# STRING #\n",
        "\n",
        "s = \"Python\""
      ],
      "metadata": {
        "id": "rPPF-PwyMOa_"
      },
      "execution_count": 91,
      "outputs": []
    },
    {
      "cell_type": "code",
      "source": [
        "s[0]"
      ],
      "metadata": {
        "colab": {
          "base_uri": "https://localhost:8080/",
          "height": 36
        },
        "id": "2rAahZ-zMe0f",
        "outputId": "1ea9f804-c9a0-4240-842f-6f799de3cc5d"
      },
      "execution_count": 92,
      "outputs": [
        {
          "output_type": "execute_result",
          "data": {
            "text/plain": [
              "'P'"
            ],
            "application/vnd.google.colaboratory.intrinsic+json": {
              "type": "string"
            }
          },
          "metadata": {},
          "execution_count": 92
        }
      ]
    },
    {
      "cell_type": "code",
      "source": [
        "s[1]"
      ],
      "metadata": {
        "colab": {
          "base_uri": "https://localhost:8080/",
          "height": 36
        },
        "id": "WaR5kJqOMgXQ",
        "outputId": "a536b534-94ef-47c0-8817-f6e4ec75dca3"
      },
      "execution_count": 93,
      "outputs": [
        {
          "output_type": "execute_result",
          "data": {
            "text/plain": [
              "'y'"
            ],
            "application/vnd.google.colaboratory.intrinsic+json": {
              "type": "string"
            }
          },
          "metadata": {},
          "execution_count": 93
        }
      ]
    },
    {
      "cell_type": "code",
      "source": [
        "s[len(s)-1] #acesso indireto ou relatico (negativo de trás pra frente)"
      ],
      "metadata": {
        "colab": {
          "base_uri": "https://localhost:8080/",
          "height": 36
        },
        "id": "8JJUQyW-Mqtv",
        "outputId": "2f27a11d-295b-4c58-ae72-d474f59e18c2"
      },
      "execution_count": 94,
      "outputs": [
        {
          "output_type": "execute_result",
          "data": {
            "text/plain": [
              "'n'"
            ],
            "application/vnd.google.colaboratory.intrinsic+json": {
              "type": "string"
            }
          },
          "metadata": {},
          "execution_count": 94
        }
      ]
    },
    {
      "cell_type": "code",
      "source": [
        " #string fatiamento *****PEGAR A FORMULA DO FATIAMENTO *****\n",
        "\n",
        "sintaxe: v[start:end:stepp]"
      ],
      "metadata": {
        "id": "Kvglbnp2NE8t"
      },
      "execution_count": null,
      "outputs": []
    },
    {
      "cell_type": "code",
      "source": [
        "s =\"ABCDEFGG\""
      ],
      "metadata": {
        "id": "UsQkrkbhNRGX"
      },
      "execution_count": 95,
      "outputs": []
    },
    {
      "cell_type": "code",
      "source": [
        "s[0:2]"
      ],
      "metadata": {
        "colab": {
          "base_uri": "https://localhost:8080/",
          "height": 36
        },
        "id": "NTvmV7ntNT07",
        "outputId": "ae783c38-b4bd-45fd-dcd8-5fe65030992c"
      },
      "execution_count": 96,
      "outputs": [
        {
          "output_type": "execute_result",
          "data": {
            "text/plain": [
              "'AB'"
            ],
            "application/vnd.google.colaboratory.intrinsic+json": {
              "type": "string"
            }
          },
          "metadata": {},
          "execution_count": 96
        }
      ]
    },
    {
      "cell_type": "code",
      "source": [
        "s[1:5:2]"
      ],
      "metadata": {
        "colab": {
          "base_uri": "https://localhost:8080/",
          "height": 36
        },
        "id": "Vng99a9cNWFO",
        "outputId": "a3bd9c26-9576-4ccc-cee0-6e6515b1ee38"
      },
      "execution_count": 97,
      "outputs": [
        {
          "output_type": "execute_result",
          "data": {
            "text/plain": [
              "'BD'"
            ],
            "application/vnd.google.colaboratory.intrinsic+json": {
              "type": "string"
            }
          },
          "metadata": {},
          "execution_count": 97
        }
      ]
    },
    {
      "cell_type": "code",
      "source": [
        "s[3:6:2]"
      ],
      "metadata": {
        "colab": {
          "base_uri": "https://localhost:8080/",
          "height": 36
        },
        "id": "WECsRuFlNYKN",
        "outputId": "a4e9c38b-653c-4d12-c8eb-44aec841f3b3"
      },
      "execution_count": 98,
      "outputs": [
        {
          "output_type": "execute_result",
          "data": {
            "text/plain": [
              "'DF'"
            ],
            "application/vnd.google.colaboratory.intrinsic+json": {
              "type": "string"
            }
          },
          "metadata": {},
          "execution_count": 98
        }
      ]
    },
    {
      "cell_type": "code",
      "source": [
        "# podemos omitir o indice:\n",
        "\n",
        "s =\"ABCDEFGG\""
      ],
      "metadata": {
        "id": "BeX_YKneOAtU"
      },
      "execution_count": 99,
      "outputs": []
    },
    {
      "cell_type": "code",
      "source": [
        "s[:2]"
      ],
      "metadata": {
        "colab": {
          "base_uri": "https://localhost:8080/",
          "height": 36
        },
        "id": "NB8ZMkbAOGjf",
        "outputId": "3ad3306a-4865-4b1c-91b6-326fd624cfb6"
      },
      "execution_count": 100,
      "outputs": [
        {
          "output_type": "execute_result",
          "data": {
            "text/plain": [
              "'AB'"
            ],
            "application/vnd.google.colaboratory.intrinsic+json": {
              "type": "string"
            }
          },
          "metadata": {},
          "execution_count": 100
        }
      ]
    },
    {
      "cell_type": "code",
      "source": [
        "s[3:]"
      ],
      "metadata": {
        "colab": {
          "base_uri": "https://localhost:8080/",
          "height": 36
        },
        "id": "VXeU3OBROKIP",
        "outputId": "4a3c2b90-d612-4857-9318-4c6881debf62"
      },
      "execution_count": 101,
      "outputs": [
        {
          "output_type": "execute_result",
          "data": {
            "text/plain": [
              "'DEFGG'"
            ],
            "application/vnd.google.colaboratory.intrinsic+json": {
              "type": "string"
            }
          },
          "metadata": {},
          "execution_count": 101
        }
      ]
    },
    {
      "cell_type": "code",
      "source": [
        "s[3::2]"
      ],
      "metadata": {
        "colab": {
          "base_uri": "https://localhost:8080/",
          "height": 36
        },
        "id": "xCVB-W8BOLwH",
        "outputId": "be23ce46-b0e9-4a05-81e6-44ca2d11e49f"
      },
      "execution_count": 102,
      "outputs": [
        {
          "output_type": "execute_result",
          "data": {
            "text/plain": [
              "'DFG'"
            ],
            "application/vnd.google.colaboratory.intrinsic+json": {
              "type": "string"
            }
          },
          "metadata": {},
          "execution_count": 102
        }
      ]
    },
    {
      "cell_type": "code",
      "source": [
        "s[::]"
      ],
      "metadata": {
        "colab": {
          "base_uri": "https://localhost:8080/",
          "height": 36
        },
        "id": "T_Kr3QwTOOe2",
        "outputId": "040b8c77-c28a-4570-c4b6-97b78e0bcaf8"
      },
      "execution_count": 103,
      "outputs": [
        {
          "output_type": "execute_result",
          "data": {
            "text/plain": [
              "'ABCDEFGG'"
            ],
            "application/vnd.google.colaboratory.intrinsic+json": {
              "type": "string"
            }
          },
          "metadata": {},
          "execution_count": 103
        }
      ]
    },
    {
      "cell_type": "code",
      "source": [
        "s[::3]"
      ],
      "metadata": {
        "colab": {
          "base_uri": "https://localhost:8080/",
          "height": 36
        },
        "id": "QEpzE-5IOQOv",
        "outputId": "9e2e4be4-0725-42dc-fc65-095e981f5635"
      },
      "execution_count": 104,
      "outputs": [
        {
          "output_type": "execute_result",
          "data": {
            "text/plain": [
              "'ADG'"
            ],
            "application/vnd.google.colaboratory.intrinsic+json": {
              "type": "string"
            }
          },
          "metadata": {},
          "execution_count": 104
        }
      ]
    },
    {
      "cell_type": "code",
      "source": [
        "#podemos usar indices negativos (posicao relativa ao ultimo carcatere)\n",
        "\n",
        "s =\"ABCDEFGG\"\n",
        "s[-1:]"
      ],
      "metadata": {
        "colab": {
          "base_uri": "https://localhost:8080/",
          "height": 36
        },
        "id": "QCfOq8_1OuC3",
        "outputId": "3d657308-215c-4604-9403-ee17933bc6de"
      },
      "execution_count": 111,
      "outputs": [
        {
          "output_type": "execute_result",
          "data": {
            "text/plain": [
              "'G'"
            ],
            "application/vnd.google.colaboratory.intrinsic+json": {
              "type": "string"
            }
          },
          "metadata": {},
          "execution_count": 111
        }
      ]
    },
    {
      "cell_type": "code",
      "source": [
        "s[0:-2] #s[:2]"
      ],
      "metadata": {
        "colab": {
          "base_uri": "https://localhost:8080/",
          "height": 36
        },
        "id": "CGGBCIleO3uX",
        "outputId": "9a600eba-d7a2-4565-c2ff-2839660ff59b"
      },
      "execution_count": 106,
      "outputs": [
        {
          "output_type": "execute_result",
          "data": {
            "text/plain": [
              "'ABCDEF'"
            ],
            "application/vnd.google.colaboratory.intrinsic+json": {
              "type": "string"
            }
          },
          "metadata": {},
          "execution_count": 106
        }
      ]
    },
    {
      "cell_type": "code",
      "source": [
        "s[-3:-1]"
      ],
      "metadata": {
        "colab": {
          "base_uri": "https://localhost:8080/",
          "height": 36
        },
        "id": "ciChw_6xO9OT",
        "outputId": "16b8f9e7-3b53-4309-b21b-cec591950445"
      },
      "execution_count": 107,
      "outputs": [
        {
          "output_type": "execute_result",
          "data": {
            "text/plain": [
              "'FG'"
            ],
            "application/vnd.google.colaboratory.intrinsic+json": {
              "type": "string"
            }
          },
          "metadata": {},
          "execution_count": 107
        }
      ]
    },
    {
      "cell_type": "code",
      "source": [
        "s[-3:]"
      ],
      "metadata": {
        "colab": {
          "base_uri": "https://localhost:8080/",
          "height": 36
        },
        "id": "_XSJ93RjO_0c",
        "outputId": "4793ec1a-01ad-4350-80f0-761a483a6d55"
      },
      "execution_count": 108,
      "outputs": [
        {
          "output_type": "execute_result",
          "data": {
            "text/plain": [
              "'FGG'"
            ],
            "application/vnd.google.colaboratory.intrinsic+json": {
              "type": "string"
            }
          },
          "metadata": {},
          "execution_count": 108
        }
      ]
    },
    {
      "cell_type": "code",
      "source": [
        "s[-5:6]"
      ],
      "metadata": {
        "colab": {
          "base_uri": "https://localhost:8080/",
          "height": 36
        },
        "id": "0vbh0FY0PBuT",
        "outputId": "f74fa4d5-bc91-41eb-8a65-baa7f2383c31"
      },
      "execution_count": 109,
      "outputs": [
        {
          "output_type": "execute_result",
          "data": {
            "text/plain": [
              "'DEF'"
            ],
            "application/vnd.google.colaboratory.intrinsic+json": {
              "type": "string"
            }
          },
          "metadata": {},
          "execution_count": 109
        }
      ]
    },
    {
      "cell_type": "code",
      "source": [
        "s[-1:-4:-1]"
      ],
      "metadata": {
        "colab": {
          "base_uri": "https://localhost:8080/",
          "height": 36
        },
        "id": "oeoqsjb0PDvD",
        "outputId": "22ab38ca-58f1-4d8f-8dc8-598f3baa6c75"
      },
      "execution_count": 110,
      "outputs": [
        {
          "output_type": "execute_result",
          "data": {
            "text/plain": [
              "'GGF'"
            ],
            "application/vnd.google.colaboratory.intrinsic+json": {
              "type": "string"
            }
          },
          "metadata": {},
          "execution_count": 110
        }
      ]
    },
    {
      "cell_type": "code",
      "source": [
        "#STRING - PERTINÊNCIA DE SUB-STRING\n",
        "\n",
        "linguagem_preferida = \"Python\""
      ],
      "metadata": {
        "id": "BgAKdMh-Ps0I"
      },
      "execution_count": null,
      "outputs": []
    },
    {
      "cell_type": "code",
      "source": [
        "'''\n",
        "\"P\" in linguagem_preferida #true or False -> TRUE\n",
        "\"p\"in linguagem_preferida #true or False -> FALSE\n",
        "'n' in linguagem_preferida #true or False -> TRUE\n",
        "linguagem_preferida in linguagem_preferida -> TRUE\n",
        "'''"
      ],
      "metadata": {
        "id": "It0qDHXJP3hv"
      },
      "execution_count": null,
      "outputs": []
    },
    {
      "cell_type": "code",
      "source": [
        "#METODOS\n",
        "\n",
        "\"python\".upper()"
      ],
      "metadata": {
        "colab": {
          "base_uri": "https://localhost:8080/",
          "height": 36
        },
        "id": "uHA049OBP3af",
        "outputId": "2a6a1288-2c70-4775-fa86-e137f8fa28af"
      },
      "execution_count": 112,
      "outputs": [
        {
          "output_type": "execute_result",
          "data": {
            "text/plain": [
              "'PYTHON'"
            ],
            "application/vnd.google.colaboratory.intrinsic+json": {
              "type": "string"
            }
          },
          "metadata": {},
          "execution_count": 112
        }
      ]
    },
    {
      "cell_type": "code",
      "source": [
        "verdade = \"python é legal\""
      ],
      "metadata": {
        "id": "vhfLPbwBQmRu"
      },
      "execution_count": 113,
      "outputs": []
    },
    {
      "cell_type": "code",
      "source": [
        "\"python\".title()"
      ],
      "metadata": {
        "colab": {
          "base_uri": "https://localhost:8080/",
          "height": 36
        },
        "id": "K-U0IpNtQp2_",
        "outputId": "6b9b1203-3960-4616-d864-911451911ac1"
      },
      "execution_count": 114,
      "outputs": [
        {
          "output_type": "execute_result",
          "data": {
            "text/plain": [
              "'Python'"
            ],
            "application/vnd.google.colaboratory.intrinsic+json": {
              "type": "string"
            }
          },
          "metadata": {},
          "execution_count": 114
        }
      ]
    },
    {
      "cell_type": "code",
      "source": [
        "\" \".join(verdade.split())"
      ],
      "metadata": {
        "colab": {
          "base_uri": "https://localhost:8080/",
          "height": 36
        },
        "id": "B19GRi0SQtQ3",
        "outputId": "1618f2dc-3abf-4bc9-e615-952e7c219944"
      },
      "execution_count": 124,
      "outputs": [
        {
          "output_type": "execute_result",
          "data": {
            "text/plain": [
              "'python é legal'"
            ],
            "application/vnd.google.colaboratory.intrinsic+json": {
              "type": "string"
            }
          },
          "metadata": {},
          "execution_count": 124
        }
      ]
    },
    {
      "cell_type": "code",
      "source": [
        "\"python é legal\".split()"
      ],
      "metadata": {
        "colab": {
          "base_uri": "https://localhost:8080/"
        },
        "id": "i3TipcNJQxvX",
        "outputId": "dcd9564a-b4fe-417e-fd26-50cd57e6be90"
      },
      "execution_count": 118,
      "outputs": [
        {
          "output_type": "execute_result",
          "data": {
            "text/plain": [
              "['python', 'é', 'legal']"
            ]
          },
          "metadata": {},
          "execution_count": 118
        }
      ]
    },
    {
      "cell_type": "code",
      "source": [
        "#INTERPOLACAO\n",
        "\n",
        "linguagem_preferida = \"Python\""
      ],
      "metadata": {
        "id": "EikIShvhRxmw"
      },
      "execution_count": 125,
      "outputs": []
    },
    {
      "cell_type": "code",
      "source": [
        "print(\"Eu amo %s\" % (linguagem_preferida))"
      ],
      "metadata": {
        "colab": {
          "base_uri": "https://localhost:8080/"
        },
        "id": "F8KQU4AqR20X",
        "outputId": "f900deee-aaf6-4835-cec0-8307182d6714"
      },
      "execution_count": 126,
      "outputs": [
        {
          "output_type": "stream",
          "name": "stdout",
          "text": [
            "Eu amo Python\n"
          ]
        }
      ]
    },
    {
      "cell_type": "code",
      "source": [
        "print(\"Eu tenho %d anos\" % (19))"
      ],
      "metadata": {
        "colab": {
          "base_uri": "https://localhost:8080/"
        },
        "id": "E5cVjVj0R-sU",
        "outputId": "b36af8f0-7dc2-4196-e11e-7721e786463d"
      },
      "execution_count": 127,
      "outputs": [
        {
          "output_type": "stream",
          "name": "stdout",
          "text": [
            "Eu tenho 19 anos\n"
          ]
        }
      ]
    },
    {
      "cell_type": "code",
      "source": [
        "print(\"Eu tenho %02d anos de idade\" % (9))"
      ],
      "metadata": {
        "colab": {
          "base_uri": "https://localhost:8080/"
        },
        "id": "eFUXKm8DSGFk",
        "outputId": "c944a5f3-b8c8-4899-bc19-9d66b5d69606"
      },
      "execution_count": 131,
      "outputs": [
        {
          "output_type": "stream",
          "name": "stdout",
          "text": [
            "Eu tenho 09 anos de idade\n"
          ]
        }
      ]
    },
    {
      "cell_type": "code",
      "source": [
        "print(\"Eu tenho %03d anos de idade e %2.5f na poupança\" % (19,100))"
      ],
      "metadata": {
        "colab": {
          "base_uri": "https://localhost:8080/"
        },
        "id": "O3rjHrQMSNHc",
        "outputId": "c8ba81f5-6668-473b-c757-7746c9f8a498"
      },
      "execution_count": 133,
      "outputs": [
        {
          "output_type": "stream",
          "name": "stdout",
          "text": [
            "Eu tenho 019 anos de idade e 100.00000 na poupança\n"
          ]
        }
      ]
    },
    {
      "cell_type": "code",
      "source": [
        "#DESAFIO\n",
        "\n",
        "nome = input(\"Digite seu nome: \")\n",
        "\n",
        "nome.upper()"
      ],
      "metadata": {
        "colab": {
          "base_uri": "https://localhost:8080/",
          "height": 53
        },
        "id": "P4p9EaUqS1Yx",
        "outputId": "9606883d-3661-482b-d1aa-4d2e2895b92e"
      },
      "execution_count": 150,
      "outputs": [
        {
          "name": "stdout",
          "output_type": "stream",
          "text": [
            "Digite seu nome: mari\n"
          ]
        },
        {
          "output_type": "execute_result",
          "data": {
            "text/plain": [
              "'MARI'"
            ],
            "application/vnd.google.colaboratory.intrinsic+json": {
              "type": "string"
            }
          },
          "metadata": {},
          "execution_count": 150
        }
      ]
    },
    {
      "cell_type": "code",
      "source": [
        "nome = input(\"Digite seu nome: \")\n",
        "\n",
        "nomeLista = [nome]\n",
        "\n",
        "\"_\".join(nomeLista.split())"
      ],
      "metadata": {
        "id": "JR9kNXXcUyAH"
      },
      "execution_count": null,
      "outputs": []
    },
    {
      "cell_type": "code",
      "source": [
        "#FUNCAO RANGE\n",
        "''' Rerorna uma série numerica no intervalo enviado como argumento.\n",
        "A série retornada é um ibjeto iterável tipo range e is elementos contifos sao gerados sob demandas\n",
        "\n",
        "é comum o uso da funcao range() com ....\n",
        "\n",
        "start\n",
        "stop\n",
        "step\n",
        "\n",
        "'''\n"
      ],
      "metadata": {
        "id": "Q2KEMyDiVpe_"
      },
      "execution_count": null,
      "outputs": []
    },
    {
      "cell_type": "code",
      "source": [
        "#gerando uam sequencia de 0 a 9\n",
        "print(list(range(10)))"
      ],
      "metadata": {
        "colab": {
          "base_uri": "https://localhost:8080/"
        },
        "id": "iR75kGhOWNJH",
        "outputId": "e8f81fe9-689f-4295-fe2b-9b59551483b6"
      },
      "execution_count": 154,
      "outputs": [
        {
          "output_type": "stream",
          "name": "stdout",
          "text": [
            "[0, 1, 2, 3, 4, 5, 6, 7, 8, 9]\n"
          ]
        }
      ]
    },
    {
      "cell_type": "code",
      "source": [
        "#gerando uma sequencia de 1  a 10\n",
        "print(list(range(1, 11)))"
      ],
      "metadata": {
        "colab": {
          "base_uri": "https://localhost:8080/"
        },
        "id": "s4oysZfmWVMm",
        "outputId": "6e2985b9-79e5-4703-a566-c7fa474a1934"
      },
      "execution_count": 155,
      "outputs": [
        {
          "output_type": "stream",
          "name": "stdout",
          "text": [
            "[1, 2, 3, 4, 5, 6, 7, 8, 9, 10]\n"
          ]
        }
      ]
    },
    {
      "cell_type": "code",
      "source": [
        "#gerando uma sequencia de 1 a 30 com step 5\n",
        "print(list(range(0, 30, 5)))"
      ],
      "metadata": {
        "colab": {
          "base_uri": "https://localhost:8080/"
        },
        "id": "eNesWH3-WeAH",
        "outputId": "37a6b07e-db7c-4f83-aeba-151dfce4e758"
      },
      "execution_count": 157,
      "outputs": [
        {
          "output_type": "stream",
          "name": "stdout",
          "text": [
            "[0, 5, 10, 15, 20, 25]\n"
          ]
        }
      ]
    },
    {
      "cell_type": "code",
      "source": [
        "#gerando uma sequencia numerica negativa\n",
        "print(list(range(0, -10, -1)))"
      ],
      "metadata": {
        "colab": {
          "base_uri": "https://localhost:8080/"
        },
        "id": "xpdZYcXOWmOF",
        "outputId": "6580b8f6-fc7d-4b4f-a5ff-66786cba30c4"
      },
      "execution_count": 158,
      "outputs": [
        {
          "output_type": "stream",
          "name": "stdout",
          "text": [
            "[0, -1, -2, -3, -4, -5, -6, -7, -8, -9]\n"
          ]
        }
      ]
    },
    {
      "cell_type": "code",
      "source": [
        "#ATIVIDADES - NOTEBOOK DE ATIVIDADES\n",
        "#STRINGS EM PYTHON\n",
        "\n",
        "#Acessando caracteres diretamente\n",
        "\n",
        "s = \"Python\"\n",
        "print (s[3])\n",
        "print (s[1])"
      ],
      "metadata": {
        "colab": {
          "base_uri": "https://localhost:8080/"
        },
        "id": "T8R-4yn0XrHw",
        "outputId": "a2b47715-d6ed-4568-b58c-9269a5de9e0f"
      },
      "execution_count": 165,
      "outputs": [
        {
          "output_type": "stream",
          "name": "stdout",
          "text": [
            "h\n",
            "y\n"
          ]
        }
      ]
    },
    {
      "cell_type": "code",
      "source": [
        "#comprimento de uma String\n",
        "\n",
        "print(len(s))"
      ],
      "metadata": {
        "colab": {
          "base_uri": "https://localhost:8080/"
        },
        "id": "Q2giivgsYn7A",
        "outputId": "c4cbeaf9-3b36-4285-b3ae-c9176e4a3162"
      },
      "execution_count": 166,
      "outputs": [
        {
          "output_type": "stream",
          "name": "stdout",
          "text": [
            "6\n"
          ]
        }
      ]
    },
    {
      "cell_type": "code",
      "source": [
        "print(s[len(s)-1])\n",
        "print(s[-2])"
      ],
      "metadata": {
        "colab": {
          "base_uri": "https://localhost:8080/"
        },
        "id": "se-rld7TYtnR",
        "outputId": "3aa3dc43-37dc-43a3-9848-f8f6234f8a80"
      },
      "execution_count": 167,
      "outputs": [
        {
          "output_type": "stream",
          "name": "stdout",
          "text": [
            "n\n",
            "o\n"
          ]
        }
      ]
    },
    {
      "cell_type": "code",
      "source": [
        "#Avesso indireto relativo\n",
        "\n",
        "print(s[0:4:2])\n",
        "print(s[-1])\n",
        "print(s[-1:-7:-1])\n",
        "print(s[-2])\n",
        "print(s[-3])\n",
        "print(s[-4])\n",
        "print(s[-5])\n",
        "print(s[-6])"
      ],
      "metadata": {
        "colab": {
          "base_uri": "https://localhost:8080/"
        },
        "id": "Km1aUfd-Y-uv",
        "outputId": "14cde39d-93d5-44ca-9d86-49eca9914c26"
      },
      "execution_count": 168,
      "outputs": [
        {
          "output_type": "stream",
          "name": "stdout",
          "text": [
            "Pt\n",
            "n\n",
            "nohtyP\n",
            "o\n",
            "h\n",
            "t\n",
            "y\n",
            "P\n"
          ]
        }
      ]
    },
    {
      "cell_type": "code",
      "source": [
        "#fatiamento de uma string\n",
        "#regras: s[start, stop, step]\n",
        "\n",
        "print(\"Aqui: \", s[-1:-(len(s)+1):-1]) #string invertida\n",
        "print(s[0:2])\n",
        "print(s[:2])\n",
        "print(s[3:])\n",
        "print(s[1:5:2])\n",
        "print(s[3:6:2])\n",
        "print(s[3::2])\n",
        "print(s[::3])"
      ],
      "metadata": {
        "colab": {
          "base_uri": "https://localhost:8080/"
        },
        "id": "lUzOLUsuZ-nJ",
        "outputId": "48265271-37f7-4d91-cff1-3b51460ca4f3"
      },
      "execution_count": 171,
      "outputs": [
        {
          "output_type": "stream",
          "name": "stdout",
          "text": [
            "Aqui:  nohtyP\n",
            "Py\n",
            "Py\n",
            "hon\n",
            "yh\n",
            "hn\n",
            "hn\n",
            "Ph\n"
          ]
        }
      ]
    },
    {
      "cell_type": "code",
      "source": [
        "#pertinencia de sub-string\n",
        "\n",
        "print('P' in s)\n",
        "print('p' in s)\n",
        "print('n' in s)\n",
        "print(s in s)"
      ],
      "metadata": {
        "colab": {
          "base_uri": "https://localhost:8080/"
        },
        "id": "QwTiH-eebcdI",
        "outputId": "4b281b29-fd58-4776-b81d-9e48e1d52286"
      },
      "execution_count": 172,
      "outputs": [
        {
          "output_type": "stream",
          "name": "stdout",
          "text": [
            "True\n",
            "False\n",
            "True\n",
            "True\n"
          ]
        }
      ]
    },
    {
      "cell_type": "code",
      "source": [
        "#metodo associados aos objetos stringd=s\n",
        "\n",
        "print('Fuctura'.upper()) #Tudo caixa alta\n",
        "print('Fuctura'.lower()) #Tudo caixa baixa\n",
        "print('python no SENAC!'.title()) #Só a primeira letra maiuscula\n",
        "\n",
        "frase = \"python é massa!\"\n",
        "teste = ('?'.join(frase))\n",
        "\n",
        "print(teste)\n",
        "print(frase.split('e')) #o split sem argumento usa espaço como quebra."
      ],
      "metadata": {
        "colab": {
          "base_uri": "https://localhost:8080/"
        },
        "id": "4BABEpUjbx_I",
        "outputId": "1091dd0e-7f18-4958-911e-b10134573c0c"
      },
      "execution_count": 176,
      "outputs": [
        {
          "output_type": "stream",
          "name": "stdout",
          "text": [
            "FUCTURA\n",
            "fuctura\n",
            "Python No Senac!\n",
            "p?y?t?h?o?n? ?é? ?m?a?s?s?a?!\n",
            "['python é massa!']\n"
          ]
        }
      ]
    },
    {
      "cell_type": "code",
      "source": [
        "#Interpolacao\n",
        "\n",
        "print(\"Pra mim %s\" %(frase))\n",
        "print(\"Funcionário cod %03d\" %(1))"
      ],
      "metadata": {
        "colab": {
          "base_uri": "https://localhost:8080/"
        },
        "id": "xlTxC71XdEpp",
        "outputId": "8f2aafd4-ebc6-4be4-e57b-a81cac3d1ce3"
      },
      "execution_count": 177,
      "outputs": [
        {
          "output_type": "stream",
          "name": "stdout",
          "text": [
            "Pra mim python é massa!\n",
            "Funcionário cod 001\n"
          ]
        }
      ]
    }
  ]
}